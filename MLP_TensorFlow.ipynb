{
 "cells": [
  {
   "cell_type": "code",
   "execution_count": 1,
   "metadata": {},
   "outputs": [
    {
     "name": "stderr",
     "output_type": "stream",
     "text": [
      "Using TensorFlow backend.\n"
     ]
    }
   ],
   "source": [
    "import numpy as np\n",
    "import matplotlib.pyplot as plt\n",
    "import tensorflow as tf\n",
    "import keras\n",
    "\n",
    "from keras.layers import Dense\n",
    "from keras.models import Sequential\n",
    "from sklearn.metrics import classification_report\n",
    "from tensorflow.examples.tutorials.mnist import input_data"
   ]
  },
  {
   "cell_type": "code",
   "execution_count": 2,
   "metadata": {},
   "outputs": [
    {
     "name": "stdout",
     "output_type": "stream",
     "text": [
      "WARNING:tensorflow:From <ipython-input-2-d651cc53d7d8>:1: read_data_sets (from tensorflow.contrib.learn.python.learn.datasets.mnist) is deprecated and will be removed in a future version.\n",
      "Instructions for updating:\n",
      "Please use alternatives such as official/mnist/dataset.py from tensorflow/models.\n",
      "WARNING:tensorflow:From /home/dcneves/.virtualenvs/tensorflow-cpu/lib/python3.7/site-packages/tensorflow/contrib/learn/python/learn/datasets/mnist.py:260: maybe_download (from tensorflow.contrib.learn.python.learn.datasets.base) is deprecated and will be removed in a future version.\n",
      "Instructions for updating:\n",
      "Please write your own downloading logic.\n",
      "WARNING:tensorflow:From /home/dcneves/.virtualenvs/tensorflow-cpu/lib/python3.7/site-packages/tensorflow/contrib/learn/python/learn/datasets/base.py:252: _internal_retry.<locals>.wrap.<locals>.wrapped_fn (from tensorflow.contrib.learn.python.learn.datasets.base) is deprecated and will be removed in a future version.\n",
      "Instructions for updating:\n",
      "Please use urllib or similar directly.\n",
      "Successfully downloaded train-images-idx3-ubyte.gz 9912422 bytes.\n",
      "WARNING:tensorflow:From /home/dcneves/.virtualenvs/tensorflow-cpu/lib/python3.7/site-packages/tensorflow/contrib/learn/python/learn/datasets/mnist.py:262: extract_images (from tensorflow.contrib.learn.python.learn.datasets.mnist) is deprecated and will be removed in a future version.\n",
      "Instructions for updating:\n",
      "Please use tf.data to implement this functionality.\n",
      "Extracting /tmp/data/train-images-idx3-ubyte.gz\n",
      "Successfully downloaded train-labels-idx1-ubyte.gz 28881 bytes.\n",
      "WARNING:tensorflow:From /home/dcneves/.virtualenvs/tensorflow-cpu/lib/python3.7/site-packages/tensorflow/contrib/learn/python/learn/datasets/mnist.py:267: extract_labels (from tensorflow.contrib.learn.python.learn.datasets.mnist) is deprecated and will be removed in a future version.\n",
      "Instructions for updating:\n",
      "Please use tf.data to implement this functionality.\n",
      "Extracting /tmp/data/train-labels-idx1-ubyte.gz\n",
      "WARNING:tensorflow:From /home/dcneves/.virtualenvs/tensorflow-cpu/lib/python3.7/site-packages/tensorflow/contrib/learn/python/learn/datasets/mnist.py:110: dense_to_one_hot (from tensorflow.contrib.learn.python.learn.datasets.mnist) is deprecated and will be removed in a future version.\n",
      "Instructions for updating:\n",
      "Please use tf.one_hot on tensors.\n",
      "Successfully downloaded t10k-images-idx3-ubyte.gz 1648877 bytes.\n",
      "Extracting /tmp/data/t10k-images-idx3-ubyte.gz\n",
      "Successfully downloaded t10k-labels-idx1-ubyte.gz 4542 bytes.\n",
      "Extracting /tmp/data/t10k-labels-idx1-ubyte.gz\n",
      "WARNING:tensorflow:From /home/dcneves/.virtualenvs/tensorflow-cpu/lib/python3.7/site-packages/tensorflow/contrib/learn/python/learn/datasets/mnist.py:290: DataSet.__init__ (from tensorflow.contrib.learn.python.learn.datasets.mnist) is deprecated and will be removed in a future version.\n",
      "Instructions for updating:\n",
      "Please use alternatives such as official/mnist/dataset.py from tensorflow/models.\n"
     ]
    }
   ],
   "source": [
    "mnist = input_data.read_data_sets(\"/tmp/data/\", one_hot=True)"
   ]
  },
  {
   "cell_type": "code",
   "execution_count": 3,
   "metadata": {},
   "outputs": [
    {
     "name": "stdout",
     "output_type": "stream",
     "text": [
      "features: (55000, 784) \tlabels: (55000, 10)\n"
     ]
    }
   ],
   "source": [
    "print(\"features:\", mnist.train.images.shape, \"\\tlabels:\", mnist.train.labels.shape)"
   ]
  },
  {
   "cell_type": "code",
   "execution_count": 6,
   "metadata": {},
   "outputs": [],
   "source": [
    "# Numero de inputs será o numero referente às dimenções da imagem (784 = 28x28).\n",
    "num_input = mnist.train.images.shape[1]\n",
    "num_out = mnist.train.labels.shape[1]\n",
    "\n",
    "batch_size = 512\n",
    "display_step = 5\n",
    "learning_rate = 0.002\n",
    "epochs = 30\n",
    "num_hidden = 16"
   ]
  },
  {
   "cell_type": "markdown",
   "metadata": {},
   "source": [
    "<h1>TensorFlow</h1>"
   ]
  },
  {
   "cell_type": "code",
   "execution_count": 7,
   "metadata": {},
   "outputs": [
    {
     "name": "stdout",
     "output_type": "stream",
     "text": [
      "WARNING:tensorflow:From /home/dcneves/.virtualenvs/tensorflow-cpu/lib/python3.7/site-packages/tensorflow/python/framework/op_def_library.py:263: colocate_with (from tensorflow.python.framework.ops) is deprecated and will be removed in a future version.\n",
      "Instructions for updating:\n",
      "Colocations handled automatically by placer.\n"
     ]
    }
   ],
   "source": [
    "# O reset_default_graph é passado para apagar o grafo e seus pesos antes de rodar o modelo novamente. \n",
    "# O reset_default_graph não funciona corretamente para o Keras.\n",
    "\n",
    "tf.reset_default_graph()\n",
    "X = tf.placeholder(tf.float32, [None, num_input], name=\"X\")\n",
    "Y = tf.placeholder(tf.float32, [None, num_out], name=\"y\")\n",
    "\n",
    "\n",
    "pesos = {\"fc_1\": tf.Variable(tf.truncated_normal([num_input, num_hidden], stddev=0.2), name=\"fc_1\"),\n",
    "        \"fc_2\": tf.Variable(tf.truncated_normal([num_hidden, num_hidden * 2], stddev=0.2), name='fc_2'),\n",
    "        \"fc_3\": tf.Variable(tf.truncated_normal([num_hidden * 2, num_out], stddev=0.2), name='fc_3')}\n",
    "\n",
    "bias  = {\"b_1\": tf.Variable(tf.zeros(shape=[num_hidden]), name='b_1'),\n",
    "        \"b_2\": tf.Variable(tf.zeros(shape=[num_hidden * 2]), name=\"b_2\"),\n",
    "        \"b_3\": tf.Variable(tf.zeros(shape=[num_out]), name=\"b_3\")}\n",
    "\n",
    "with tf.name_scope(\"Dense_1\"):\n",
    "    dense_1 = tf.matmul(X, pesos[\"fc_1\"])\n",
    "    dense_1 = tf.add(dense_1, bias[\"b_1\"])\n",
    "    dense_1 = tf.nn.relu(dense_1, name=\"Dense_1\")\n",
    "    \n",
    "with tf.name_scope(\"Dense_2\"):\n",
    "    dense_2 = tf.matmul(dense_1, pesos[\"fc_2\"])\n",
    "    dense_2 = tf.add(dense_2, bias[\"b_2\"])\n",
    "    dense_2 = tf.nn.relu(dense_2, name=\"Dense_2\")\n",
    "\n",
    "with tf.name_scope(\"Output\"):\n",
    "    logits = tf.matmul(dense_2, pesos[\"fc_3\"])\n",
    "    logits = tf.add(logits, bias[\"b_3\"])\n",
    "    output = tf.nn.softmax(logits, name=\"Output\")"
   ]
  },
  {
   "cell_type": "code",
   "execution_count": 8,
   "metadata": {},
   "outputs": [],
   "source": [
    "with tf.name_scope('Loss'):\n",
    "    # Calculo de loss\n",
    "    loss_op = tf.reduce_mean(tf.nn.softmax_cross_entropy_with_logits_v2(logits=logits,\n",
    "                                                                        labels=Y))\n",
    "    \n",
    "    # Backpropagation\n",
    "    optimizer = tf.train.AdamOptimizer(learning_rate=learning_rate)\n",
    "    train_op = optimizer.minimize(loss_op)\n",
    "\n",
    "with tf.name_scope(\"accuracy\"):\n",
    "    # Calculo de precisão.\n",
    "    correct_prediction = tf.equal(tf.argmax(output, 1), tf.argmax(Y, 1))\n",
    "    accuracy = tf.reduce_mean(tf.cast(correct_prediction, tf.float32))"
   ]
  },
  {
   "cell_type": "code",
   "execution_count": 9,
   "metadata": {},
   "outputs": [
    {
     "name": "stdout",
     "output_type": "stream",
     "text": [
      "Epoch: 0 \ttrain - Loss: 0.367 Acc: 88.09% \tValidate - Loss: 0.408 Acc: 88.28%\n",
      "Epoch: 5 \ttrain - Loss: 0.260 Acc: 92.19% \tValidate - Loss: 0.186 Acc: 95.70%\n",
      "Epoch: 10 \ttrain - Loss: 0.109 Acc: 96.48% \tValidate - Loss: 0.162 Acc: 96.09%\n",
      "Epoch: 15 \ttrain - Loss: 0.157 Acc: 94.73% \tValidate - Loss: 0.096 Acc: 97.07%\n",
      "Epoch: 20 \ttrain - Loss: 0.090 Acc: 97.07% \tValidate - Loss: 0.134 Acc: 95.51%\n",
      "Epoch: 25 \ttrain - Loss: 0.086 Acc: 97.66% \tValidate - Loss: 0.146 Acc: 95.51%\n",
      "Epoch: 30 \ttrain - Loss: 0.097 Acc: 96.88% \tValidate - Loss: 0.109 Acc: 97.27%\n"
     ]
    }
   ],
   "source": [
    "init = tf.global_variables_initializer()\n",
    "with tf.Session() as sess:\n",
    "        sess.run(init)\n",
    "        \n",
    "        # Calculo para o numero de loops para ser completado uma época (epoch).\n",
    "        num_batchs = mnist.train.num_examples // batch_size\n",
    "        \n",
    "        list_loss_train = []\n",
    "        list_loss_eval = []\n",
    "        for epoch in range(epochs+1):\n",
    "            \n",
    "            # for para percorrer todas as possibilidades de batch dentro do dataset.\n",
    "            for _ in range(num_batchs):\n",
    "                X_train, y_train = mnist.train.next_batch(batch_size)\n",
    "                X_eval, y_eval = mnist.validation.next_batch(batch_size)\n",
    "                \n",
    "                # O treinamento é realizado quando iniciado a sessão passando o train_op.\n",
    "                _, loss_train, accuracy_train = sess.run([train_op, loss_op, accuracy],\n",
    "                                                         feed_dict={X:X_train ,Y:y_train})            \n",
    "                loss_eval, accuracy_eval = sess.run([loss_op, accuracy],\n",
    "                                     feed_dict={X:X_eval, Y:y_eval})\n",
    "                \n",
    "                list_loss_eval.append(loss_eval)\n",
    "                list_loss_train.append(loss_train)\n",
    "                 \n",
    "            if epoch % display_step == 0:\n",
    "                print(\"Epoch: {} \\ttrain - Loss: {:.3f} Acc: {:.2f}% \\tValidate - Loss: {:.3f} Acc: {:.2f}%\".format(\n",
    "                epoch, loss_train, accuracy_train * 100, loss_eval, accuracy_eval * 100))\n",
    "                \n",
    "        X_test = mnist.test.images\n",
    "        y_test = mnist.test.labels\n",
    "        predict = sess.run(output, feed_dict={X:X_test})"
   ]
  },
  {
   "cell_type": "code",
   "execution_count": 10,
   "metadata": {},
   "outputs": [],
   "source": [
    "predict = np.argmax(predict, axis=1)"
   ]
  },
  {
   "cell_type": "code",
   "execution_count": 11,
   "metadata": {},
   "outputs": [
    {
     "data": {
      "text/plain": [
       "array([7, 2, 1, ..., 4, 5, 6])"
      ]
     },
     "execution_count": 11,
     "metadata": {},
     "output_type": "execute_result"
    }
   ],
   "source": [
    "predict"
   ]
  },
  {
   "cell_type": "code",
   "execution_count": 12,
   "metadata": {},
   "outputs": [],
   "source": [
    "y_test = np.argmax(y_test, axis=1)"
   ]
  },
  {
   "cell_type": "code",
   "execution_count": 13,
   "metadata": {},
   "outputs": [
    {
     "data": {
      "text/plain": [
       "array([7, 2, 1, ..., 4, 5, 6])"
      ]
     },
     "execution_count": 13,
     "metadata": {},
     "output_type": "execute_result"
    }
   ],
   "source": [
    "y_test"
   ]
  },
  {
   "cell_type": "code",
   "execution_count": 14,
   "metadata": {},
   "outputs": [
    {
     "name": "stdout",
     "output_type": "stream",
     "text": [
      "              precision    recall  f1-score   support\n",
      "\n",
      "           0       0.97      0.98      0.98       980\n",
      "           1       0.99      0.99      0.99      1135\n",
      "           2       0.96      0.96      0.96      1032\n",
      "           3       0.97      0.95      0.96      1010\n",
      "           4       0.96      0.97      0.96       982\n",
      "           5       0.94      0.96      0.95       892\n",
      "           6       0.97      0.97      0.97       958\n",
      "           7       0.96      0.95      0.96      1028\n",
      "           8       0.95      0.95      0.95       974\n",
      "           9       0.95      0.95      0.95      1009\n",
      "\n",
      "   micro avg       0.96      0.96      0.96     10000\n",
      "   macro avg       0.96      0.96      0.96     10000\n",
      "weighted avg       0.96      0.96      0.96     10000\n",
      "\n"
     ]
    }
   ],
   "source": [
    "print(classification_report(y_test, predict))"
   ]
  },
  {
   "cell_type": "code",
   "execution_count": 15,
   "metadata": {},
   "outputs": [
    {
     "data": {
      "text/plain": [
       "[<matplotlib.lines.Line2D at 0x7f96c8f304d0>]"
      ]
     },
     "execution_count": 15,
     "metadata": {},
     "output_type": "execute_result"
    },
    {
     "data": {
      "image/png": "[encoded data removed]",
      "text/plain": [
       "<Figure size 1008x576 with 1 Axes>"
      ]
     },
     "metadata": {
      "needs_background": "light"
     },
     "output_type": "display_data"
    }
   ],
   "source": [
    "plt.figure(figsize=(14,8))\n",
    "plt.plot(list_loss_eval)\n",
    "plt.plot(list_loss_train)"
   ]
  },
  {
   "cell_type": "markdown",
   "metadata": {},
   "source": [
    "<h1>Keras</h1>"
   ]
  },
  {
   "cell_type": "code",
   "execution_count": 20,
   "metadata": {},
   "outputs": [],
   "source": [
    "# O clear_session é passado para apagar o grafo e seus pesos antes de rodar o modelo novamente.\n",
    "# O clear_session não funciona corretamente no TensorFlow.\n",
    "\n",
    "keras.backend.clear_session()\n",
    "model = Sequential()"
   ]
  },
  {
   "cell_type": "code",
   "execution_count": 21,
   "metadata": {},
   "outputs": [
    {
     "name": "stdout",
     "output_type": "stream",
     "text": [
      "_________________________________________________________________\n",
      "Layer (type)                 Output Shape              Param #   \n",
      "=================================================================\n",
      "dense_1 (Dense)              (None, 16)                12560     \n",
      "_________________________________________________________________\n",
      "dense_2 (Dense)              (None, 32)                544       \n",
      "_________________________________________________________________\n",
      "dense_3 (Dense)              (None, 10)                330       \n",
      "=================================================================\n",
      "Total params: 13,434\n",
      "Trainable params: 13,434\n",
      "Non-trainable params: 0\n",
      "_________________________________________________________________\n"
     ]
    }
   ],
   "source": [
    "model.add(Dense(num_hidden, activation=\"relu\", input_shape=(num_input,)))\n",
    "model.add(Dense(num_hidden * 2, activation=\"relu\"))\n",
    "model.add(Dense(num_out, activation=\"softmax\"))\n",
    "model.compile(loss=keras.losses.categorical_crossentropy,\n",
    "              optimizer=keras.optimizers.adam(),\n",
    "              metrics=[\"accuracy\"])\n",
    "model.summary()"
   ]
  },
  {
   "cell_type": "code",
   "execution_count": 22,
   "metadata": {
    "scrolled": false
   },
   "outputs": [
    {
     "name": "stdout",
     "output_type": "stream",
     "text": [
      "WARNING:tensorflow:From /home/dcneves/.virtualenvs/tensorflow-cpu/lib/python3.7/site-packages/tensorflow/python/ops/math_ops.py:3066: to_int32 (from tensorflow.python.ops.math_ops) is deprecated and will be removed in a future version.\n",
      "Instructions for updating:\n",
      "Use tf.cast instead.\n",
      "Train on 55000 samples, validate on 5000 samples\n",
      "Epoch 1/30\n",
      "55000/55000 [==============================] - 0s 9us/step - loss: 1.2204 - acc: 0.6620 - val_loss: 0.4958 - val_acc: 0.8698\n",
      "Epoch 2/30\n",
      "55000/55000 [==============================] - 0s 3us/step - loss: 0.4042 - acc: 0.8889 - val_loss: 0.3211 - val_acc: 0.9130\n",
      "Epoch 3/30\n",
      "55000/55000 [==============================] - 0s 4us/step - loss: 0.3109 - acc: 0.9112 - val_loss: 0.2752 - val_acc: 0.9232\n",
      "Epoch 4/30\n",
      "55000/55000 [==============================] - 0s 4us/step - loss: 0.2736 - acc: 0.9215 - val_loss: 0.2547 - val_acc: 0.9258\n",
      "Epoch 5/30\n",
      "55000/55000 [==============================] - 0s 4us/step - loss: 0.2500 - acc: 0.9275 - val_loss: 0.2335 - val_acc: 0.9346\n",
      "Epoch 6/30\n",
      "55000/55000 [==============================] - 0s 4us/step - loss: 0.2330 - acc: 0.9331 - val_loss: 0.2207 - val_acc: 0.9370\n",
      "Epoch 7/30\n",
      "55000/55000 [==============================] - 0s 4us/step - loss: 0.2196 - acc: 0.9364 - val_loss: 0.2127 - val_acc: 0.9390\n",
      "Epoch 8/30\n",
      "55000/55000 [==============================] - 0s 4us/step - loss: 0.2075 - acc: 0.9406 - val_loss: 0.2026 - val_acc: 0.9464\n",
      "Epoch 9/30\n",
      "55000/55000 [==============================] - 0s 4us/step - loss: 0.1986 - acc: 0.9425 - val_loss: 0.1946 - val_acc: 0.9460\n",
      "Epoch 10/30\n",
      "55000/55000 [==============================] - 0s 3us/step - loss: 0.1898 - acc: 0.9450 - val_loss: 0.1905 - val_acc: 0.9468\n",
      "Epoch 11/30\n",
      "55000/55000 [==============================] - 0s 4us/step - loss: 0.1822 - acc: 0.9471 - val_loss: 0.1835 - val_acc: 0.9510\n",
      "Epoch 12/30\n",
      "55000/55000 [==============================] - 0s 3us/step - loss: 0.1746 - acc: 0.9493 - val_loss: 0.1769 - val_acc: 0.9512\n",
      "Epoch 13/30\n",
      "55000/55000 [==============================] - 0s 3us/step - loss: 0.1679 - acc: 0.9515 - val_loss: 0.1760 - val_acc: 0.9510\n",
      "Epoch 14/30\n",
      "55000/55000 [==============================] - 0s 3us/step - loss: 0.1630 - acc: 0.9531 - val_loss: 0.1702 - val_acc: 0.9528\n",
      "Epoch 15/30\n",
      "55000/55000 [==============================] - 0s 3us/step - loss: 0.1570 - acc: 0.9550 - val_loss: 0.1676 - val_acc: 0.9548\n",
      "Epoch 16/30\n",
      "55000/55000 [==============================] - 0s 4us/step - loss: 0.1528 - acc: 0.9559 - val_loss: 0.1624 - val_acc: 0.9554\n",
      "Epoch 17/30\n",
      "55000/55000 [==============================] - 0s 4us/step - loss: 0.1478 - acc: 0.9575 - val_loss: 0.1602 - val_acc: 0.9576\n",
      "Epoch 18/30\n",
      "55000/55000 [==============================] - 0s 3us/step - loss: 0.1436 - acc: 0.9587 - val_loss: 0.1607 - val_acc: 0.9546\n",
      "Epoch 19/30\n",
      "55000/55000 [==============================] - 0s 3us/step - loss: 0.1398 - acc: 0.9593 - val_loss: 0.1548 - val_acc: 0.9578\n",
      "Epoch 20/30\n",
      "55000/55000 [==============================] - 0s 3us/step - loss: 0.1359 - acc: 0.9610 - val_loss: 0.1536 - val_acc: 0.9584\n",
      "Epoch 21/30\n",
      "55000/55000 [==============================] - 0s 3us/step - loss: 0.1339 - acc: 0.9610 - val_loss: 0.1511 - val_acc: 0.9562\n",
      "Epoch 22/30\n",
      "55000/55000 [==============================] - 0s 3us/step - loss: 0.1308 - acc: 0.9617 - val_loss: 0.1509 - val_acc: 0.9580\n",
      "Epoch 23/30\n",
      "55000/55000 [==============================] - 0s 3us/step - loss: 0.1269 - acc: 0.9625 - val_loss: 0.1539 - val_acc: 0.9572\n",
      "Epoch 24/30\n",
      "55000/55000 [==============================] - 0s 3us/step - loss: 0.1250 - acc: 0.9633 - val_loss: 0.1476 - val_acc: 0.9570\n",
      "Epoch 25/30\n",
      "55000/55000 [==============================] - 0s 3us/step - loss: 0.1222 - acc: 0.9642 - val_loss: 0.1531 - val_acc: 0.9574\n",
      "Epoch 26/30\n",
      "55000/55000 [==============================] - 0s 3us/step - loss: 0.1199 - acc: 0.9646 - val_loss: 0.1456 - val_acc: 0.9606\n",
      "Epoch 27/30\n",
      "55000/55000 [==============================] - 0s 3us/step - loss: 0.1170 - acc: 0.9655 - val_loss: 0.1448 - val_acc: 0.9600\n",
      "Epoch 28/30\n",
      "55000/55000 [==============================] - 0s 3us/step - loss: 0.1155 - acc: 0.9660 - val_loss: 0.1496 - val_acc: 0.9580\n",
      "Epoch 29/30\n",
      "55000/55000 [==============================] - 0s 3us/step - loss: 0.1128 - acc: 0.9669 - val_loss: 0.1415 - val_acc: 0.9604\n",
      "Epoch 30/30\n",
      "55000/55000 [==============================] - 0s 3us/step - loss: 0.1104 - acc: 0.9675 - val_loss: 0.1463 - val_acc: 0.9588\n"
     ]
    }
   ],
   "source": [
    "X_train = mnist.train.images\n",
    "y_train = mnist.train.labels\n",
    "X_eval = mnist.validation.images\n",
    "y_eval = mnist.validation.labels\n",
    "history = model.fit(X_train, y_train, batch_size, epochs, validation_data=[X_eval, y_eval])"
   ]
  },
  {
   "cell_type": "code",
   "execution_count": 23,
   "metadata": {},
   "outputs": [],
   "source": [
    "predict = model.predict(mnist.test.images)"
   ]
  },
  {
   "cell_type": "code",
   "execution_count": 24,
   "metadata": {},
   "outputs": [],
   "source": [
    "predict = np.argmax(predict, axis=1)"
   ]
  },
  {
   "cell_type": "code",
   "execution_count": 25,
   "metadata": {},
   "outputs": [
    {
     "data": {
      "text/plain": [
       "array([7, 2, 1, ..., 4, 5, 6])"
      ]
     },
     "execution_count": 25,
     "metadata": {},
     "output_type": "execute_result"
    }
   ],
   "source": [
    "predict"
   ]
  },
  {
   "cell_type": "code",
   "execution_count": 26,
   "metadata": {},
   "outputs": [],
   "source": [
    "y_test = np.argmax(mnist.test.labels, axis=1)"
   ]
  },
  {
   "cell_type": "code",
   "execution_count": 27,
   "metadata": {},
   "outputs": [
    {
     "name": "stdout",
     "output_type": "stream",
     "text": [
      "              precision    recall  f1-score   support\n",
      "\n",
      "           0       0.97      0.98      0.97       980\n",
      "           1       0.97      0.99      0.98      1135\n",
      "           2       0.96      0.94      0.95      1032\n",
      "           3       0.93      0.95      0.94      1010\n",
      "           4       0.96      0.95      0.96       982\n",
      "           5       0.93      0.94      0.94       892\n",
      "           6       0.97      0.95      0.96       958\n",
      "           7       0.94      0.96      0.95      1028\n",
      "           8       0.94      0.95      0.95       974\n",
      "           9       0.95      0.94      0.94      1009\n",
      "\n",
      "   micro avg       0.95      0.95      0.95     10000\n",
      "   macro avg       0.95      0.95      0.95     10000\n",
      "weighted avg       0.96      0.95      0.95     10000\n",
      "\n"
     ]
    }
   ],
   "source": [
    "print(classification_report(y_test, predict))"
   ]
  },
  {
   "cell_type": "code",
   "execution_count": 28,
   "metadata": {},
   "outputs": [
    {
     "data": {
      "text/plain": [
       "dict_keys(['val_loss', 'val_acc', 'loss', 'acc'])"
      ]
     },
     "execution_count": 28,
     "metadata": {},
     "output_type": "execute_result"
    }
   ],
   "source": [
    "history.history.keys()"
   ]
  },
  {
   "cell_type": "code",
   "execution_count": 29,
   "metadata": {
    "scrolled": false
   },
   "outputs": [
    {
     "data": {
      "text/plain": [
       "[<matplotlib.lines.Line2D at 0x7f96c8587cd0>]"
      ]
     },
     "execution_count": 29,
     "metadata": {},
     "output_type": "execute_result"
    },
    {
     "data": {
      "image/png": "[encoded data removed]",
      "text/plain": [
       "<Figure size 1008x576 with 1 Axes>"
      ]
     },
     "metadata": {
      "needs_background": "light"
     },
     "output_type": "display_data"
    }
   ],
   "source": [
    "plt.figure(figsize=(14,8))\n",
    "plt.plot(history.history['val_loss'])\n",
    "plt.plot(history.history['loss'])"
   ]
  },
  {
   "cell_type": "code",
   "execution_count": null,
   "metadata": {},
   "outputs": [],
   "source": []
  }
 ],
 "metadata": {
  "kernelspec": {
   "display_name": "Python (tensorflow-cpu)",
   "language": "python",
   "name": "other-env"
  },
  "language_info": {
   "codemirror_mode": {
    "name": "ipython",
    "version": 3
   },
   "file_extension": ".py",
   "mimetype": "text/x-python",
   "name": "python",
   "nbconvert_exporter": "python",
   "pygments_lexer": "ipython3",
   "version": "3.7.5rc1"
  }
 },
 "nbformat": 4,
 "nbformat_minor": 2
}
