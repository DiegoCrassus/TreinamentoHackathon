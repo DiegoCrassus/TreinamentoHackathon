{
 "cells": [
  {
   "cell_type": "code",
   "execution_count": null,
   "metadata": {},
   "outputs": [],
   "source": [
    "import numpy as np\n",
    "import pandas as pd\n",
    "import matplotlib.pyplot as plt\n",
    "\n",
    "from datetime import datetime"
   ]
  },
  {
   "cell_type": "code",
   "execution_count": null,
   "metadata": {},
   "outputs": [],
   "source": [
    "dataframe = pd.DataFrame.from_csv(\"GlobalTemperatures.csv\")"
   ]
  },
  {
   "cell_type": "markdown",
   "metadata": {},
   "source": [
    "<h2>Informações sobre o Dataset</h2><br>\n",
    "O dataset contem dados sobre o <b>aquecimento global</b>, com inicio em <b>1850</b> ate <b>2015</b>, com dados gerados todo dia primeiro de cada mês, ou seja, <b>12</b> amostras por ano.\n",
    "\n",
    "<b>LandAverageTemperature</b>: temperatura média global da terra em graus Celsius<br>\n",
    "<b>LandAverageTemperatureIncerteza</b>: o intervalo de confiança de 95% em torno da média<br>\n",
    "<b>LandMaxTemperature</b>: temperatura máxima média global da terra em graus Celsius<br>\n",
    "<b>Incerteza LandMaxTemperature</b>: o intervalo de confiança de 95% em torno da temperatura máxima da terra<br>\n",
    "<b>LandMinTemperature</b>: temperatura mínima média global da terra em graus Celsius<br>\n",
    "<b>Incerteza LandMinTemperature</b>: o intervalo de confiança de 95% em torno da temperatura mínima do solo<br>\n",
    "<b>LandAndOceanAverageTemperature</b>: temperatura média global da terra e do oceano em graus Celsius<br>\n",
    "<b>Incerteza LandAndOceanAverageTemperature</b>: o intervalo de confiança de 95% em torno da temperatura média global da terra e do oceano"
   ]
  },
  {
   "cell_type": "markdown",
   "metadata": {},
   "source": [
    "<h2>Objetivo</h2>\n",
    "\n",
    "Será avaliado o <b>entendimento do dataset</b> e a <b>montagem do modelo</b>. Deverá ser veito uma regressão utilizando <b>LSTM</b> com <b>Tensorflow</b> versão (1.13.2), quem optar por utilizar <b>Keras</b> terá uma nota reduzida para <b>45%</b> do valor total. A escolha de qual classe a ser predita e quais features serão utilizadas para realizar a predição é de escolha de cada participante.<br>\n",
    "<p><b>Obs.</b>: a forma de vizualização e explicação sobre o que foi predito será avaliado tambem.</p>\n",
    "\n",
    "<p><b>Dica</b>: As colunas Year e Month (Criadas posteriormente) serão importantes caso optem por fazer uma série temporal.</p>"
   ]
  },
  {
   "cell_type": "code",
   "execution_count": null,
   "metadata": {
    "scrolled": false
   },
   "outputs": [],
   "source": [
    "dataframe.head()"
   ]
  },
  {
   "cell_type": "code",
   "execution_count": null,
   "metadata": {
    "scrolled": true
   },
   "outputs": [],
   "source": [
    "dataframe.columns"
   ]
  },
  {
   "cell_type": "code",
   "execution_count": null,
   "metadata": {},
   "outputs": [],
   "source": [
    "def get_year_and_month(Dataframe):\n",
    "    date_list = dataframe[\"Date\"].apply(lambda x: datetime.strptime(x, \"%Y-%m-%d\")).to_list()\n",
    "    date_list = [x.date().timetuple()[:2] for x in date_list]\n",
    "    \n",
    "    year_list, day_list = zip(*date_list)\n",
    "    \n",
    "    Dataframe[\"Year\"] = year_list\n",
    "    Dataframe[\"Month\"] = day_list\n",
    "    Dataframe = Dataframe.drop([\"Date\"], axis=1)\n",
    "    \n",
    "    return Dataframe"
   ]
  },
  {
   "cell_type": "code",
   "execution_count": null,
   "metadata": {},
   "outputs": [],
   "source": [
    "dataframe = get_year_and_month(dataframe)"
   ]
  },
  {
   "cell_type": "code",
   "execution_count": null,
   "metadata": {
    "scrolled": true
   },
   "outputs": [],
   "source": [
    "dataframe.head()"
   ]
  },
  {
   "cell_type": "code",
   "execution_count": null,
   "metadata": {},
   "outputs": [],
   "source": [
    "dataframe_treinamento = dataframe.loc[dataframe[\"Year\"] < 2000]"
   ]
  },
  {
   "cell_type": "code",
   "execution_count": null,
   "metadata": {},
   "outputs": [],
   "source": [
    "dataframe_teste = dataframe.loc[dataframe[\"Year\"] >= 2000]"
   ]
  },
  {
   "cell_type": "markdown",
   "metadata": {},
   "source": [
    "<h2> Dataset </h2><br>\n",
    "O dataset foi separado em dois dataframes, <b>dataframe_treinamento</b> e <b>dataframe_teste</b>, o dataframe de treinamento possui dados dos anos de <b>1850</b> a <b>1999</b>, o de teste vai de <b>2000</b> a <b>2015</b>. O dataframe de treinamento deverá ser divido entre treino e validação, com <b>70% para treino e 30% para validação</b>, e o dataframe de teste será feito para comparar os dados preditos com base na classe que foi escolhida."
   ]
  },
  {
   "cell_type": "code",
   "execution_count": null,
   "metadata": {},
   "outputs": [],
   "source": [
    "dataframe_treinamento.loc[:, \"Year\"].unique()"
   ]
  },
  {
   "cell_type": "code",
   "execution_count": null,
   "metadata": {},
   "outputs": [],
   "source": [
    "dataframe_teste.loc[:, \"Year\"].unique()"
   ]
  },
  {
   "cell_type": "markdown",
   "metadata": {},
   "source": [
    "<h2>Visualização dos dados</h2>"
   ]
  },
  {
   "cell_type": "code",
   "execution_count": null,
   "metadata": {},
   "outputs": [],
   "source": []
  },
  {
   "cell_type": "markdown",
   "metadata": {},
   "source": [
    "<h2>Modelo</h2><br>"
   ]
  },
  {
   "cell_type": "code",
   "execution_count": null,
   "metadata": {},
   "outputs": [],
   "source": []
  },
  {
   "cell_type": "markdown",
   "metadata": {},
   "source": [
    "<h2>Métricas</h2>"
   ]
  },
  {
   "cell_type": "code",
   "execution_count": null,
   "metadata": {},
   "outputs": [],
   "source": []
  },
  {
   "cell_type": "markdown",
   "metadata": {},
   "source": [
    "<h2>Conclusão</h2>"
   ]
  },
  {
   "cell_type": "code",
   "execution_count": null,
   "metadata": {},
   "outputs": [],
   "source": []
  }
 ],
 "metadata": {
  "kernelspec": {
   "display_name": "Python (tensorflow-cpu)",
   "language": "python",
   "name": "other-env"
  },
  "language_info": {
   "codemirror_mode": {
    "name": "ipython",
    "version": 3
   },
   "file_extension": ".py",
   "mimetype": "text/x-python",
   "name": "python",
   "nbconvert_exporter": "python",
   "pygments_lexer": "ipython3",
   "version": "3.7.5rc1"
  }
 },
 "nbformat": 4,
 "nbformat_minor": 2
}
